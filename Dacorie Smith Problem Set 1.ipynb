{
 "cells": [
  {
   "cell_type": "markdown",
   "id": "d1aa4307-6869-438b-8d2c-a5b671fce5dc",
   "metadata": {},
   "source": [
    " Done by Dacorie Smith 1"
   ]
  },
  {
   "cell_type": "markdown",
   "id": "fca134b4-a666-48c1-a1e1-bc44dabbeb6f",
   "metadata": {},
   "source": [
    "Problem Set 1\n",
    "This problem set is based on lectures 1,2 and 3. For a complete list of topics please \n",
    "consult page 2 of the course syllabus. Please consult the “Instructions for Problem \n",
    "Set Submissions” document under course information before submitting your \n",
    "assignment.\n"
   ]
  },
  {
   "cell_type": "markdown",
   "id": "a14ea3d4-40ab-4939-8747-98ef4d296536",
   "metadata": {},
   "source": [
    "Question 1\n",
    "What data type is each of the following (evaluate where necessary)?\n",
    "5 \n",
    "5.0\n",
    "5 > 1\n",
    "'5'\n",
    "5 * 2\n",
    "'5' * 2\n",
    "'5' + '2'\n",
    "5 / 2\n",
    "5 % 2\n",
    "{5, 2, 1}\n",
    "5 == 3\n",
    "Pi (the number)"
   ]
  },
  {
   "cell_type": "code",
   "execution_count": null,
   "id": "cd33ea58-ce37-4334-bc0e-69684b4ab8ee",
   "metadata": {},
   "outputs": [],
   "source": [
    "Answer:\n",
    "5   Type: int (Integer)\n",
    "5.0 Type: float\n",
    "5 > 1 Type: bool (Boolean). The result of the comparison is either True or False.\n",
    "'5' Type: str (String)\n",
    "5 * 2 Type: int (Multiplication of two integers)\n",
    "'5' * 2 Type: str (The string '5' will be repeated 2 times, resulting in '55')\n",
    "'5' + '2' Type: str (Concatenation of two strings, resulting in '52')\n",
    "5 / 2 Type: float (In Python 3.x, the division of two integers returns a float. The result would be 2.5)\n",
    "5 % 2 Type: int (This is the modulus operation that gives the remainder of the division of 5 by 2)\n",
    "{5, 2, 1} Type: set (A collection of unique values)\n",
    "5 == 3 Type: bool (The result of the equality check is either True or False)\n",
    "Pi (the number) Type: float \n"
   ]
  },
  {
   "cell_type": "code",
   "execution_count": 3,
   "id": "398e7593-a460-4e3f-a486-e1593f57686c",
   "metadata": {
    "tags": []
   },
   "outputs": [
    {
     "data": {
      "text/plain": [
       "34"
      ]
     },
     "execution_count": 3,
     "metadata": {},
     "output_type": "execute_result"
    }
   ],
   "source": [
    "# Question 2:\n",
    "# Write (and evaluate) python expressions that answer these questions:\n",
    "# a. How many letters are there in 'Supercalifragilisticexpialidocious'?\n",
    "# b. Does 'Supercalifragilisticexpialidocious' contain 'ice' as a substring?\n",
    "# c. Which of the following words is the longest: Supercalifragilisticexpialidocious, #Honorificabilitudinitatibus, or Bababadalgharaghtakamminarronnkonn? d. Which composer comes first in the dictionary: 'Berlioz', 'Borodin', 'Brian','Bartok', 'Bellini', 'Buxtehude', 'Bernstein'. Which one comes last?\n",
    "\n",
    "# Answers :\n",
    "\n",
    "# a. How many letters are there in 'Supercalifragilisticexpialidocious'?\n",
    "len(\"Supercalifragilisticexpialidocious\")"
   ]
  },
  {
   "cell_type": "code",
   "execution_count": 4,
   "id": "b553b383-790c-4430-ac97-da7f46f47c5b",
   "metadata": {
    "tags": []
   },
   "outputs": [
    {
     "data": {
      "text/plain": [
       "True"
      ]
     },
     "execution_count": 4,
     "metadata": {},
     "output_type": "execute_result"
    }
   ],
   "source": [
    "#2b. Does 'Supercalifragilisticexpialidocious' contain 'ice' as a substring?\n",
    "'ice' in 'Supercalifragilisticexpialidocious'"
   ]
  },
  {
   "cell_type": "code",
   "execution_count": 5,
   "id": "d5658732-cb85-432b-be4b-8637fb14b479",
   "metadata": {
    "tags": []
   },
   "outputs": [
    {
     "name": "stdout",
     "output_type": "stream",
     "text": [
      "Supercalifragilisticexpialidocious\n"
     ]
    }
   ],
   "source": [
    "#2c. Which of the following words is the longest: Supercalifragilisticexpialidocious, Honorificabilitudinitatibus, or\n",
    "#Bababadalgharaghtakamminarronnkonn?\n",
    "\n",
    "words = [\"Supercalifragilisticexpialidocious\", \"Honorificabilitudinitatibus\", \"Bababadalgharaghtakamminarronnkonn\"]\n",
    "longest_word = max(words, key=len)\n",
    "\n",
    "print(longest_word)"
   ]
  },
  {
   "cell_type": "code",
   "execution_count": 6,
   "id": "12833bdc-5117-40f3-9a4c-39607fdc8e15",
   "metadata": {
    "tags": []
   },
   "outputs": [
    {
     "name": "stdout",
     "output_type": "stream",
     "text": [
      "{'Berlioz': 0, 'Borodin': 0, 'Brian': 0, 'Bartok': 0, 'Bellini': 0, 'Buxtehude': 0, 'Bernstein': 0}\n"
     ]
    }
   ],
   "source": [
    "# Which composer comes first in the dictionary: 'Berlioz', 'Borodin', 'Brian',\n",
    "#'Bartok', 'Bellini', 'Buxtehude', 'Bernstein'. Which one comes last?\n",
    "#check back this \n",
    "\n",
    "names = ['Berlioz', 'Borodin', 'Brian', 'Bartok', 'Bellini', 'Buxtehude', 'Bernstein']\n",
    "\n",
    "# Create a dictionary where each name is a key with a default value (e.g., 0)\n",
    "name_dict = {name: 0 for name in names}\n",
    "\n",
    "print(name_dict)"
   ]
  },
  {
   "cell_type": "code",
   "execution_count": 7,
   "id": "b296ed25-a310-4844-9585-b9da89694bfe",
   "metadata": {
    "tags": []
   },
   "outputs": [
    {
     "name": "stdout",
     "output_type": "stream",
     "text": [
      "1.7320508075688772\n"
     ]
    }
   ],
   "source": [
    "#Question 3\n",
    "#Implement function triangleArea(a,b,c) that takes as input the lengths of the 3\n",
    "#sides of a triangle and returns the area of the triangle. By Heron's formula, the area \n",
    "#of a triangle with side lengths a, b, and c is s(s - a)(s -b)(s -c), where s = (a +b + c) /2\n",
    "\n",
    "# >>> triangleArea(2,2,2)\n",
    "# 1.7320508075688772\n",
    "\n",
    "def triangleArea(a, b, c):\n",
    "    try:\n",
    "       \n",
    "        s = (a + b + c) / 2.0\n",
    "        \n",
    "        # Use Heron's formula to compute the area # In essence, x ** 0.5 In Python, the ** operator is used for exponentiation,\n",
    "        area = (s * (s - a) * (s - b) * (s - c)) ** 0.5  # Square root of the value\n",
    "        return area\n",
    "\n",
    "    except ValueError as e:\n",
    "        print(f\"Error: {e}\")\n",
    "        return None\n",
    "\n",
    "print(triangleArea(2, 2, 2))\n"
   ]
  },
  {
   "cell_type": "code",
   "execution_count": null,
   "id": "64fff020-e84b-408f-87f4-6bf465f27f66",
   "metadata": {},
   "outputs": [],
   "source": [
    "# Write a program in python to separate odd and even integers in separate arrays. Go to the editor\n",
    "#Test Data :\n",
    "#Input the number of elements to be stored in the array :5\n",
    "#Input 5 elements in the array :\n",
    "#element - 0 : 25\n",
    "#element - 1 : 47\n",
    "#element - 2 : 42\n",
    "#element - 3 : 56\n",
    "#element - 4 : 32\n",
    "#Expected Output:\n",
    "#The Even elements are:\n",
    "#42 56 32\n",
    "#The Odd elements are :\n",
    "#25 47\n",
    "\n",
    "\n",
    "def separate_odd_even(arr):\n",
    "    \"\"\"\n",
    "    Separates the odd and even integers in the input array into two separate arrays.\n",
    "    \n",
    "    \"\"\"\n",
    "    \n",
    "    even_arr = []\n",
    "    odd_arr = []\n",
    "    \n",
    "    for num in arr:\n",
    "        if num % 2 == 0:\n",
    "            even_arr.append(num)\n",
    "        else:\n",
    "            odd_arr.append(num)\n",
    "    \n",
    "    return even_arr, odd_arr\n"
   ]
  },
  {
   "cell_type": "code",
   "execution_count": null,
   "id": "a08eb551-23c0-4b24-a528-f3521e1fe0a6",
   "metadata": {},
   "outputs": [],
   "source": [
    "#Question 5a\n",
    "#a. Write a function inside(x,y,x1,y1,x2,y2) that returns True or False depending on whether the point (x,y) lies in the rectangle with lower left corner (x1,y1) and upper right corner (x2,y2).\n",
    "#>>> inside(1,1,0,0,2,3)\n",
    "#True\n",
    "\n",
    "def inside(x, y, x1, y1, x2, y2):\n",
    "    try:\n",
    "         \n",
    "        if x >= x1 and x <= x2:\n",
    "             \n",
    "            if y >= y1 and y <= y2:\n",
    "                return True\n",
    "         \n",
    "        return False\n",
    "    except Exception as e:\n",
    "        print(f\"An error occurred: {e}\")\n",
    "        return False\n",
    "\n",
    "\n",
    "# Testing the function\n",
    "print(inside(1, 1, 0, 0, 2, 2))  # True: Point lies inside the rectangle"
   ]
  },
  {
   "cell_type": "code",
   "execution_count": 1,
   "id": "c1eb960e-771e-4534-b524-a503145f3923",
   "metadata": {},
   "outputs": [
    {
     "name": "stdout",
     "output_type": "stream",
     "text": [
      "The point (1,1) does not lie inside both rectangles.\n"
     ]
    }
   ],
   "source": [
    "# Question 5a\n",
    "# Use function inside() from part a. to write an expression that tests whether the point (1,1) lies in both of the following rectangles: one with lower left corner (0.3, 0.5) and upper right corner (1.1, 0.7) and the other with lower left corner (0.5, 0.2) and upper right corner (1.1, 2).\n",
    "#\n",
    "\n",
    "def inside(x, y, x1, y1, x2, y2):\n",
    "    try:\n",
    "        # Check if x lies between x1 and x2\n",
    "        if x >= x1 and x <= x2:\n",
    "            # Check if y lies between y1 and y2\n",
    "            if y >= y1 and y <= y2:\n",
    "                return True\n",
    "        # If either of the conditions fail, return False\n",
    "        return False\n",
    "    except Exception as e:\n",
    "        print(f\"An error occurred: {e}\")\n",
    "        return False\n",
    "\n",
    "\n",
    "def point_in_both_rectangles(x, y):\n",
    "    try:\n",
    "        # Rectangle 1 coordinates\n",
    "        rect1_x1, rect1_y1 = 0.3, 0.5\n",
    "        rect1_x2, rect1_y2 = 1.1, 0.7\n",
    "\n",
    "        # Rectangle 2 coordinates\n",
    "        rect2_x1, rect2_y1 = 0.5, 0.2\n",
    "        rect2_x2, rect2_y2 = 1.1, 2\n",
    "\n",
    "        # Check if the point is inside both rectangles\n",
    "        if inside(x, y, rect1_x1, rect1_y1, rect1_x2, rect1_y2) and inside(x, y, rect2_x1, rect2_y1, rect2_x2, rect2_y2):\n",
    "            return True\n",
    "        else:\n",
    "            return False\n",
    "\n",
    "    except Exception as e:\n",
    "        print(f\"An error occurred: {e}\")\n",
    "        return False\n",
    "\n",
    "# Test the function\n",
    "x, y = 1, 1\n",
    "if point_in_both_rectangles(x, y):\n",
    "    print(f\"The point ({x},{y}) lies inside both rectangles.\")\n",
    "else:\n",
    "    print(f\"The point ({x},{y}) does not lie inside both rectangles.\")\n"
   ]
  },
  {
   "cell_type": "code",
   "execution_count": null,
   "id": "833d103c-2449-4369-ba09-247e7664d0f7",
   "metadata": {},
   "outputs": [],
   "source": [
    "#Question 6\n",
    "#16. You can turn a word into pig-Latin using the following two rules (simplified):\n",
    "#• If the word starts with a consonant, move that letter to the end and append 'ay'. For example, 'happy' becomes 'appyhay' and 'pencil' becomes 'encilpay'.\n",
    "#• If the word starts with a vowel, simply append 'way' to the end of the word. For example, 'enter' becomes 'enterway' and 'other' becomes 'otherway' . For our purposes, there are 5 vowels: a, e, i, o, u (so we count y as a consonant).\n",
    "#Write a function pig() that takes a word (i.e., a string) as input and returns its pig-Latin form. Your function should still work if the input word contains upper case characters. Your output should always be lower case however.\n",
    ">>> pig('happy')\n",
    "'appyhay'\n",
    ">>> pig('Enter')\n",
    "'enterway'\n",
    "\n",
    "def pig(word):\n",
    "    # Convert the word to lowercase\n",
    "    word = word.lower()\n",
    "\n",
    "    # Check if the first letter is a vowel\n",
    "    if word[0] in ['a', 'e', 'i', 'o', 'u']:\n",
    "        return word + 'way'\n",
    "    else:\n",
    "        # Move the first letter to the end and append 'ay'\n",
    "        return word[1:] + word[0] + 'ay'\n",
    "\n",
    "# Test the function\n",
    "print(pig('happy'))  # Expected output: appyhay\n",
    "print(pig('Enter'))  # Expected output: enterway"
   ]
  },
  {
   "cell_type": "code",
   "execution_count": 5,
   "id": "277f4664-a230-4598-9725-fac4ab5bd460",
   "metadata": {
    "tags": []
   },
   "outputs": [
    {
     "name": "stdout",
     "output_type": "stream",
     "text": [
      "There are 15 patients of blood type A.\n",
      "There is one patient of blood type B.\n",
      "There are 13 patients of blood type AB.\n",
      "There are 15 patients of blood type O.\n",
      "There are no patients of blood type OO.\n"
     ]
    }
   ],
   "source": [
    "#Question 7\n",
    "#File bloodtype1.txt records blood-types of patients (A, B, AB, O or OO) at a clinic. Write a function bldcount() that reads the file with name name and reports (i.e., prints) how many patients there are in each bloodtype.\n",
    "#>>> bldcount('bloodtype.txt')\n",
    "#3There are 10 patients of blood type A.\n",
    "#There is one patient of blood type B.\n",
    "#There are 10 patients of blood type AB.\n",
    "#There are 12 patients of blood type O.\n",
    "#There are no patients of blood type OO.\n",
    "\n",
    "def bldcount(name):\n",
    "    with open(name, 'r') as file:\n",
    "        data = file.read()\n",
    "        blood_types = data.split()  # Assuming the blood types are space-separated\n",
    "        blood_groups = ['A', 'B', 'AB', 'O', 'OO']\n",
    "\n",
    "        for bg in blood_groups:\n",
    "            count = blood_types.count(bg)\n",
    "            if count == 0:\n",
    "                print(f\"There are no patients of blood type {bg}.\")\n",
    "            elif count == 1:\n",
    "                print(f\"There is one patient of blood type {bg}.\")\n",
    "            else:\n",
    "                print(f\"There are {count} patients of blood type {bg}.\")\n",
    "\n",
    "# Test the function\n",
    "bldcount('bloodtype1.txt')\n"
   ]
  },
  {
   "cell_type": "code",
   "execution_count": 7,
   "id": "3e027d4d-40fa-4b11-ba1b-c49d465fc0a9",
   "metadata": {
    "tags": []
   },
   "outputs": [
    {
     "name": "stdout",
     "output_type": "stream",
     "text": [
      "122.96544\n",
      "1.241401\n"
     ]
    }
   ],
   "source": [
    "#Write a function curconv() that takes as input:\n",
    "#1. a currency represented using a string (e.g., 'JPY' for the Japanese Yen or 'EUR' for the Euro)\n",
    "#2. an amount\n",
    "#and then converts and returns the amount in US dollars.\n",
    "#>>> curconv('EUR', 100)\n",
    "#122.96544\n",
    "#>>> curconv('JPY', 100)\n",
    "#1.241401\n",
    "#The currency rates you will need are stored in file currencies.txt:\n",
    "\n",
    "def curconv(currency, amount):\n",
    "    try:\n",
    "        # Read the file\n",
    "        with open('currencies.txt', 'r') as file:\n",
    "            lines = file.readlines()\n",
    "\n",
    "            # Go through each line and extract currency and rate\n",
    "            for line in lines:\n",
    "                parts = line.split()  # Split by whitespace\n",
    "                if parts[0] == currency:  # Check if the currency matches\n",
    "                    rate = float(parts[1])  # Extract the conversion rate\n",
    "                    return rate * amount\n",
    "\n",
    "        # If we didn't find the currency, raise an error\n",
    "        raise ValueError(f\"Currency {currency} not found in currencies.txt\")\n",
    "    \n",
    "    except FileNotFoundError:\n",
    "        print(\"Error: The file 'currencies.txt' was not found.\")\n",
    "    except Exception as e:\n",
    "        print(f\"An error occurred: {e}\")\n",
    "\n",
    "\n",
    "# Test the function\n",
    "print(curconv('EUR', 100))  # Expected output: 122.96544\n",
    "print(curconv('JPY', 100))  # Expected output: 1.241401"
   ]
  },
  {
   "cell_type": "code",
   "execution_count": null,
   "id": "d2860b00-e992-4338-a428-d22541f2bb8c",
   "metadata": {},
   "outputs": [],
   "source": [
    "#Question 9\n",
    "Each of the following will cause an exception (an error). Identify what type of exception each will cause.\n",
    "\n",
    "#Answer\n",
    "Trying to add incompatible variables, as in adding 6 + ‘a’:\n",
    "Exception: TypeError\n",
    "Reason: Unsupported operand type(s) for +: 'int' and 'str'.\n",
    "\n",
    "Referring to the 12th item of a list that has only 10 items:\n",
    "Exception: IndexError\n",
    "Reason: List index out of range.\n",
    "\n",
    "Using a value that is out of range for a function’s input, such as calling math.sqrt(1.0):\n",
    "Exception: ValueError\n",
    "Reason: math domain error.\n",
    "\n",
    "Using an undeclared variable, such as print(x) when x has not been defined:\n",
    "Exception: NameError\n",
    "Reason: Name 'x' is not defined.\n",
    "\n",
    "Trying to open a file that does not exist, such as mistyping the file name or looking in the wrong directory:\n",
    "Exception: FileNotFoundError\n",
    "Reason: No such file or directory\n"
   ]
  },
  {
   "cell_type": "code",
   "execution_count": 4,
   "id": "9173a228-86d7-4994-a53b-422199ac08cd",
   "metadata": {
    "tags": []
   },
   "outputs": [
    {
     "name": "stdout",
     "output_type": "stream",
     "text": [
      "[1, 1, 1, 3, 5, 1, 1, 2, 1, 0, 1, 0, 1, 2, 4, 0, 1, 2, 0, 3, 1, 0, 1, 1, 0, 0]\n",
      "[1, 0, 0, 0, 1, 0, 0, 0, 0, 0, 0, 1, 0, 0, 0, 2, 0, 0, 0, 0, 0, 0, 0, 0, 0, 0]\n"
     ]
    }
   ],
   "source": [
    "#Question 10\n",
    "#Encryption is the process of hiding the meaning of a text by substituting letters in the message with other letters, according to some system. If the process is successful, no one but the intended recipient can understand the encrypted message. Cryptanalysis refers to attempts to undo the encryption, even if some details of the encryption are unknown (for example, if an encrypted message has been intercepted). The first step of cryptanalysis is often to build up a table of letter frequencies in the encrypted text. Assume that the string letters is already defined as 'abcdefghijklmnopqrstuvwxyz'. Write a function called frequencies() that takes a string as its only parameter, and returns a list of integers, showing the number of times each character appears in the text. Your function may ignore any characters that are not in letters.\n",
    "#>>> frequencies('The quick red fox got bored and went home.')\n",
    "#[1, 1, 1, 3, 5, 1, 1, 2, 1, 0, 1, 0, 1, 2, 4, 0, 1, 2, 0, 2, 1, 0, 1, 1, 0, 0]\n",
    "#>>> frequencies('apple')\n",
    "\n",
    "def frequencies(s):\n",
    "    letters = 'abcdefghijklmnopqrstuvwxyz'\n",
    "    s = s.lower()  # Convert the input string to lowercase\n",
    "\n",
    "    frequencies_list = []\n",
    "\n",
    "    for char in letters:\n",
    "        count = 0\n",
    "        for letter in s:\n",
    "            if char == letter:\n",
    "                count += 1\n",
    "        frequencies_list.append(count)\n",
    "\n",
    "    return frequencies_list\n",
    "\n",
    "\n",
    "\n",
    "\n",
    "# Testing the function\n",
    "print(frequencies('The quick red fox got bored and went home.'))\n",
    "# Expected output: [1, 1, 1, 3, 5, 1, 1, 2, 1, 0, 1, 0, 1, 2, 4, 0, 1, 2, 0, 2, 1, 0, 1, 1, 0, 0]\n",
    "\n",
    "print(frequencies('apple'))\n",
    "# Expected output: [1, 0, 0, 0, 1, 0, 0, 0, 0, 0, 0, 1, 0, 0, 0, 2, 0, 0, 0, 0, 0, 0, 0, 0, 0, 0]"
   ]
  },
  {
   "cell_type": "code",
   "execution_count": null,
   "id": "d3b5b41a-65fd-4928-ba47-8e5651dd2b44",
   "metadata": {},
   "outputs": [],
   "source": []
  }
 ],
 "metadata": {
  "kernelspec": {
   "display_name": "Python 3 (ipykernel)",
   "language": "python",
   "name": "python3"
  },
  "language_info": {
   "codemirror_mode": {
    "name": "ipython",
    "version": 3
   },
   "file_extension": ".py",
   "mimetype": "text/x-python",
   "name": "python",
   "nbconvert_exporter": "python",
   "pygments_lexer": "ipython3",
   "version": "3.11.4"
  }
 },
 "nbformat": 4,
 "nbformat_minor": 5
}
